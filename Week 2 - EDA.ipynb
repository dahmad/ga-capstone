{
 "cells": [
  {
   "cell_type": "markdown",
   "metadata": {},
   "source": [
    "# Exploratory Data Analysis\n",
    "\n",
    "### Conclusions\n",
    "\n",
    "1. Visualizations of waveforms are not particularly illuminating\n",
    "2. Looking simply at length of segment for a baseline model is somewhat useful\n",
    "\n",
    "### What is next:\n",
    "\n",
    "1. More feature engineering"
   ]
  },
  {
   "cell_type": "code",
   "execution_count": 2,
   "metadata": {
    "collapsed": true
   },
   "outputs": [],
   "source": [
    "from pydub import AudioSegment\n",
    "from glob import glob\n",
    "from scipy.io import wavfile\n",
    "from IPython.core.display import HTML\n",
    "from IPython.display import Audio\n",
    "import pandas as pd"
   ]
  },
  {
   "cell_type": "markdown",
   "metadata": {},
   "source": [
    "### Reading manual classification of first track"
   ]
  },
  {
   "cell_type": "code",
   "execution_count": 3,
   "metadata": {
    "collapsed": true
   },
   "outputs": [],
   "source": [
    "file_list = glob('01/*.wav')\n",
    "file_list = sorted(file_list)"
   ]
  },
  {
   "cell_type": "markdown",
   "metadata": {},
   "source": [
    "\"results\" was copied and pasted from a list printed to the terminal by my Kivy app"
   ]
  },
  {
   "cell_type": "code",
   "execution_count": 4,
   "metadata": {},
   "outputs": [
    {
     "data": {
      "text/html": [
       "<div>\n",
       "<table border=\"1\" class=\"dataframe\">\n",
       "  <thead>\n",
       "    <tr style=\"text-align: right;\">\n",
       "      <th></th>\n",
       "      <th>filepath</th>\n",
       "      <th>classification</th>\n",
       "    </tr>\n",
       "  </thead>\n",
       "  <tbody>\n",
       "    <tr>\n",
       "      <th>0</th>\n",
       "      <td>01/Jeanne_Moreau_-_Le_blues_indolent__1963-_-_...</td>\n",
       "      <td>0</td>\n",
       "    </tr>\n",
       "    <tr>\n",
       "      <th>1</th>\n",
       "      <td>01/Jeanne_Moreau_-_Le_blues_indolent__1963-_-_...</td>\n",
       "      <td>0</td>\n",
       "    </tr>\n",
       "    <tr>\n",
       "      <th>2</th>\n",
       "      <td>01/Jeanne_Moreau_-_Le_blues_indolent__1963-_-_...</td>\n",
       "      <td>0</td>\n",
       "    </tr>\n",
       "    <tr>\n",
       "      <th>3</th>\n",
       "      <td>01/Jeanne_Moreau_-_Le_blues_indolent__1963-_-_...</td>\n",
       "      <td>0</td>\n",
       "    </tr>\n",
       "    <tr>\n",
       "      <th>4</th>\n",
       "      <td>01/Jeanne_Moreau_-_Le_blues_indolent__1963-_-_...</td>\n",
       "      <td>1</td>\n",
       "    </tr>\n",
       "  </tbody>\n",
       "</table>\n",
       "</div>"
      ],
      "text/plain": [
       "                                            filepath  classification\n",
       "0  01/Jeanne_Moreau_-_Le_blues_indolent__1963-_-_...               0\n",
       "1  01/Jeanne_Moreau_-_Le_blues_indolent__1963-_-_...               0\n",
       "2  01/Jeanne_Moreau_-_Le_blues_indolent__1963-_-_...               0\n",
       "3  01/Jeanne_Moreau_-_Le_blues_indolent__1963-_-_...               0\n",
       "4  01/Jeanne_Moreau_-_Le_blues_indolent__1963-_-_...               1"
      ]
     },
     "execution_count": 4,
     "metadata": {},
     "output_type": "execute_result"
    }
   ],
   "source": [
    "results = [(1, 0), (2, 0), (3, 0), (4, 0), (5, 1), (6, 0), (7, 0), (8, 1), (9, 0), (10, 0), (11, 0), (12, 0), (13, 0), (14, 0), (15, 1), (16, 0), (17, 0), (18, 0), (19, 0), (20, 1), (21, 0), (22, 0), (23, 1), (24, 1), (25, 1), (26, 0), (27, 0), (28, 1), (29, 0), (30, 1), (31, 0), (32, 0), (33, 0), (34, 0), (35, 0), (36, 0), (37, 0), (38, 0), (39, 0), (40, 0), (41, 0), (42, 0), (43, 0), (44, 0), (45, 0), (46, 0), (47, 0), (48, 1), (49, 0), (50, 1), (51, 0), (52, 0), (53, 0), (54, 0), (55, 0), (56, 0), (57, 0), (58, 0), (59, 0), (60, 0), (61, 0), (62, 0), (63, 0), (64, 0), (65, 0), (66, 0), (67, 0), (68, 0), (69, 0), (70, 0), (71, 0), (72, 0), (73, 0), (74, 0), (75, 0), (76, 0), (77, 0), (78, 0), (79, 0), (80, 0), (81, 0), (82, 0), (83, 0), (84, 0), (85, 0), (86, 0), (87, 0), (88, 1), (89, 0), (90, 0), (91, 0), (92, 0), (93, 1), (94, 0), (95, 1), (96, 1), (97, 0), (98, 0), (99, 0), (100, 0), (101, 0), (102, 0), (103, 0), (104, 0), (105, 0), (106, 0), (107, 0), (108, 0), (109, 0), (110, 0), (111, 0), (112, 0), (113, 0), (114, 0), (115, 0), (116, 1), (117, 0), (118, 0), (119, 0), (120, 0), (121, 0), (122, 0), (123, 1), (124, 0), (125, 0), (126, 0), (127, 0), (128, 0), (129, 0), (130, 0), (131, 0), (132, 0), (133, 0), (134, 0), (135, 0), (136, 1), (137, 1), (138, 0), (139, 0), (140, 1), (141, 1), (142, 1), (143, 0), (144, 0), (145, 0), (146, 0), (147, 1), (148, 0), (149, 0), (150, 0), (151, 1), (152, 0), (153, 0), (154, 0), (155, 0), (156, 0), (157, 0), (158, 0), (159, 0), (160, 0), (161, 0), (162, 0), (163, 0), (164, 0), (165, 0), (166, 0), (167, 0), (168, 0), (169, 0), (170, 0), (171, 0), (172, 0), (173, 0), (174, 0), (175, 0), (176, 0), (177, 0), (178, 0), (179, 0), (180, 0), (181, 0), (182, 0), (183, 0), (184, 0), (185, 0), (186, 0), (187, 0), (188, 1), (189, 0), (190, 1), (191, 1), (192, 0), (193, 0), (194, 0), (195, 0), (196, 0), (197, 0), (198, 0), (199, 0), (200, 0), (201, 0), (202, 0), (203, 0), (204, 0), (205, 0), (206, 0), (207, 0), (208, 0), (209, 0), (210, 0), (211, 0), (212, 0), (213, 0), (214, 0), (215, 0), (216, 0), (217, 0), (218, 0), (219, 0), (220, 0), (221, 0), (222, 0), (223, 0), (224, 0), (225, 0), (226, 0), (227, 0), (228, 0), (229, 0), (230, 0), (231, 0), (232, 0), (233, 0), (234, 0), (235, 0), (236, 0), (237, 1), (238, 0), (239, 0), (240, 0), (241, 0), (242, 0), (243, 0), (244, 0), (245, 0), (246, 0), (247, 0), (248, 0), (249, 0), (250, 0), (251, 0), (252, 0), (253, 0), (254, 0), (255, 0), (256, 0), (257, 0), (258, 0), (259, 0), (260, 0), (261, 0), (262, 0), (263, 0), (264, 0), (265, 0), (266, 0), (267, 0), (268, 0), (269, 0), (270, 0), (271, 0), (272, 0), (273, 0), (274, 0), (275, 0), (276, 0), (277, 0), (278, 0), (279, 0), (280, 0), (281, 0), (282, 0), (283, 0), (284, 0), (285, 0), (286, 0), (287, 0), (288, 0), (289, 0), (290, 0), (291, 0), (292, 0), (293, 0), (294, 0), (295, 1), (296, 0), (297, 0), (298, 0), (299, 1), (300, 0), (301, 0), (302, 0), (303, 0), (304, 0), (305, 0), (306, 0), (307, 0), (308, 0), (309, 0), (310, 0), (311, 0), (312, 0), (313, 0), (314, 0), (315, 0), (316, 1), (317, 0), (318, 0), (319, 0), (320, 0), (321, 0), (322, 0), (323, 0), (324, 0), (325, 0), (326, 0), (327, 0), (328, 0), (329, 0), (330, 0), (331, 0), (332, 0), (333, 0), (334, 0), (335, 0), (336, 0), (337, 0), (338, 0), (339, 0), (340, 0), (341, 0), (342, 0), (343, 1), (344, 0), (345, 0), (346, 0), (347, 0), (348, 0), (349, 0), (350, 0), (351, 0), (352, 0), (353, 0), (354, 0), (355, 0), (356, 0), (357, 0), (358, 0), (359, 0), (360, 0), (361, 0), (362, 0), (363, 0), (364, 0), (365, 0), (366, 0), (367, 0), (368, 0), (369, 0), (370, 0), (371, 0), (372, 0), (373, 0), (374, 0), (375, 0), (376, 0), (377, 0), (378, 0), (379, 0), (380, 0), (381, 0), (382, 0), (383, 0), (384, 0), (385, 0), (386, 0), (387, 0), (388, 0), (389, 0), (390, 0), (391, 0), (392, 0), (393, 0), (394, 0), (395, 0), (396, 0), (397, 0), (398, 0), (399, 0), (400, 0), (401, 0), (402, 0), (403, 0), (404, 0), (405, 0), (406, 0), (407, 0), (408, 0), (409, 0), (410, 0), (411, 0), (412, 0), (413, 0), (414, 0), (415, 0), (416, 0), (417, 0), (418, 0), (419, 0), (420, 0), (421, 0), (422, 0), (423, 0), (424, 0), (425, 0), (426, 0), (427, 0), (428, 0), (429, 0), (430, 0), (431, 0), (432, 0), (433, 0), (434, 0), (435, 0), (436, 0), (437, 0), (438, 0), (439, 0), (440, 0), (441, 0), (442, 0), (443, 0), (444, 1), (445, 1), (446, 0), (447, 0), (448, 0), (449, 0), (450, 1), (451, 0), (452, 0), (453, 0), (454, 0), (455, 0), (456, 0), (457, 0), (458, 0), (459, 0), (460, 0), (461, 0), (462, 0), (463, 0), (464, 0), (465, 1), (466, 0), (467, 0), (468, 0), (469, 0), (470, 0), (471, 0), (472, 0), (473, 0), (474, 0), (475, 0), (476, 0), (477, 1), (478, 0), (479, 0), (480, 0), (481, 0), (482, 0), (483, 0), (484, 0), (485, 1), (486, 0), (487, 0), (488, 0), (489, 0), (490, 0), (491, 0), (492, 0), (493, 0), (494, 0), (495, 0), (496, 0), (497, 0), (498, 0), (499, 0), (500, 0), (501, 0), (502, 0), (503, 0), (504, 0), (505, 0), (506, 0), (507, 0), (508, 0), (509, 0), (510, 0), (511, 0), (512, 0), (513, 0), (514, 1), (515, 1), (516, 1), (517, 0), (518, 0), (519, 0), (520, 0), (521, 0), (522, 1), (523, 0), (524, 0), (525, 0), (526, 1), (527, 0), (528, 0), (529, 0), (530, 1), (531, 0), (532, 0), (533, 0), (534, 0), (535, 0), (536, 0), (537, 0), (538, 0), (539, 0), (540, 0), (541, 0), (542, 0), (543, 0), (544, 0), (545, 0), (546, 0), (547, 0), (548, 0), (549, 0), (550, 0), (551, 0), (552, 0), (553, 0), (554, 0), (555, 0), (556, 0), (557, 0), (558, 0), (559, 0), (560, 0), (561, 0), (562, 0), (563, 0), (564, 0), (565, 0), (566, 0), (567, 0), (568, 0), (569, 0), (570, 1), (571, 0), (572, 0), (573, 0), (574, 0), (575, 0), (576, 0), (577, 1), (578, 0), (579, 0), (580, 1), (581, 0), (582, 0), (583, 0), (584, 0), (585, 0), (586, 0), (587, 0), (588, 0), (589, 1), (590, 0), (591, 0), (592, 0), (593, 0), (594, 0), (595, 0), (596, 1), (597, 0), (598, 0), (599, 0), (600, 0), (601, 0), (602, 0), (603, 0), (604, 0), (605, 0), (606, 0), (607, 0), (608, 0), (609, 0), (610, 0), (611, 0), (612, 0), (613, 0), (614, 0), (615, 0), (616, 0), (617, 0), (618, 0), (619, 0), (620, 0), (621, 0), (622, 0), (623, 0), (624, 0), (625, 0), (626, 0), (627, 0), (628, 0), (629, 0), (630, 0), (631, 0), (632, 0), (633, 0), (634, 0), (635, 0)]\n",
    "\n",
    "df = pd.DataFrame(file_list, columns=['filepath'])\n",
    "\n",
    "classification = []\n",
    "for x in range(len(results)):\n",
    "    classification.append(results[x][1])\n",
    "df_ = pd.DataFrame(classification, columns=['classification'])\n",
    "df = df.join(df_)\n",
    "\n",
    "df.head()"
   ]
  },
  {
   "cell_type": "markdown",
   "metadata": {},
   "source": [
    "### Reading manual classification of second track"
   ]
  },
  {
   "cell_type": "code",
   "execution_count": 7,
   "metadata": {},
   "outputs": [
    {
     "name": "stdout",
     "output_type": "stream",
     "text": [
      "622\n"
     ]
    }
   ],
   "source": [
    "with open('results.txt', 'r') as f:\n",
    "    values = f.read()\n",
    "classification = []\n",
    "for x in list(values):\n",
    "    if x in ['0', '1']:\n",
    "        classification.append(x)\n",
    "    else:\n",
    "        pass\n",
    "print(len(classification))"
   ]
  },
  {
   "cell_type": "code",
   "execution_count": 8,
   "metadata": {
    "collapsed": true
   },
   "outputs": [],
   "source": [
    "file_list = sorted(list(glob('03/*.wav')))"
   ]
  },
  {
   "cell_type": "code",
   "execution_count": 10,
   "metadata": {},
   "outputs": [],
   "source": [
    "df2 = pd.DataFrame(file_list, columns=['filepath'])\n",
    "df2_ = pd.DataFrame(classification, columns=['classification'])\n",
    "df2 = df2.join(df2_)"
   ]
  },
  {
   "cell_type": "code",
   "execution_count": 12,
   "metadata": {},
   "outputs": [
    {
     "data": {
      "text/plain": [
       "0    603\n",
       "1     19\n",
       "Name: classification, dtype: int64"
      ]
     },
     "execution_count": 12,
     "metadata": {},
     "output_type": "execute_result"
    }
   ],
   "source": [
    "df2['classification'].value_counts()"
   ]
  },
  {
   "cell_type": "markdown",
   "metadata": {},
   "source": [
    "### Printing waveforms; did not reveal much"
   ]
  },
  {
   "cell_type": "code",
   "execution_count": null,
   "metadata": {
    "collapsed": true
   },
   "outputs": [],
   "source": [
    "for x in range(len(is_1)):\n",
    "    samplerate, data = wavfile.read(is_1[x])\n",
    "    times = np.arange(len(data))/float(samplerate)\n",
    "    plt.figure()\n",
    "    plt.fill_between(times, data[:,0], data[:,1], color='k')\n",
    "    plt.xlim(times[0], times[-1])\n",
    "    plt.xlabel('time (s)')\n",
    "    plt.ylabel('amplitude')\n",
    "    plt.axes(facecolor='darkslategray')\n",
    "    plt.plot(data, color='lightgreen')\n",
    "    # plt.title(clean_titles[x], color='white')\n",
    "    plt.axhline(0, color='white', alpha=.5)\n",
    "    plt.savefig(('%s.png' % x]), transparent=True)\n",
    "    print('Saved %s' % x)\n",
    "    # src = '%s.png' % clean_titles[x]\n",
    "    # image = Image(source=src, allow_stretch=False)"
   ]
  },
  {
   "cell_type": "code",
   "execution_count": 24,
   "metadata": {
    "collapsed": true
   },
   "outputs": [],
   "source": [
    "import librosa\n",
    "import numpy as np"
   ]
  },
  {
   "cell_type": "code",
   "execution_count": 25,
   "metadata": {
    "collapsed": true
   },
   "outputs": [],
   "source": [
    "y, sr = librosa.core.load('1.wav')"
   ]
  },
  {
   "cell_type": "code",
   "execution_count": 26,
   "metadata": {},
   "outputs": [
    {
     "data": {
      "text/plain": [
       "2962"
      ]
     },
     "execution_count": 26,
     "metadata": {},
     "output_type": "execute_result"
    }
   ],
   "source": [
    "len(y)"
   ]
  },
  {
   "cell_type": "markdown",
   "metadata": {},
   "source": [
    "# Attempted, partially-abandoned, ham-fisted form of feature engineering"
   ]
  },
  {
   "cell_type": "markdown",
   "metadata": {},
   "source": [
    "Thought process: \n",
    "I require summary statistic that is one number\n",
    "* return every combination of audio feature extraction (using librosa) with summary stat (using scipy)\n",
    "* let the model tell me what is important\n",
    "* \"reverse-engineer\" the summary stat to understand conceptually what is being revealed"
   ]
  },
  {
   "cell_type": "code",
   "execution_count": null,
   "metadata": {
    "collapsed": true,
    "scrolled": true
   },
   "outputs": [],
   "source": [
    "# stft\n",
    "np.max(sps.describe(librosa.core.stft(librosa.core.load(x)[0])).minmax)\n",
    "np.min(sps.describe(librosa.core.stft(librosa.core.load(x)[0])).minmax)\n",
    "np.ptp(sps.describe(librosa.core.stft(librosa.core.load(x)[0])).minmax)\n",
    "np.percentile(sps.describe(librosa.core.stft(librosa.core.load(x)[0])).minmax, 25)\n",
    "np.percentile(sps.describe(librosa.core.stft(librosa.core.load(x)[0])).minmax, 50)\n",
    "np.percentile(sps.describe(librosa.core.stft(librosa.core.load(x)[0])).minmax, 75)\n",
    "np.median(sps.describe(librosa.core.stft(librosa.core.load(x)[0])).minmax)\n",
    "np.average(sps.describe(librosa.core.stft(librosa.core.load(x)[0])).minmax)\n",
    "np.mean(sps.describe(librosa.core.stft(librosa.core.load(x)[0])).minmax)\n",
    "np.std(sps.describe(librosa.core.stft(librosa.core.load(x)[0])).minmax)\n",
    "np.var(sps.describe(librosa.core.stft(librosa.core.load(x)[0])).minmax)\n",
    "np.max(np.corrcoef(sps.describe(librosa.core.stft(librosa.core.load(x)[0])).minmax))\n",
    "np.min(np.corrcoef(sps.describe(librosa.core.stft(librosa.core.load(x)[0])).minmax))\n",
    "np.ptp(np.corrcoef(sps.describe(librosa.core.stft(librosa.core.load(x)[0])).minmax))\n",
    "np.percentile(np.corrcoef(sps.describe(librosa.core.stft(librosa.core.load(x)[0])).minmax),25)\n",
    "np.percentile(np.corrcoef(sps.describe(librosa.core.stft(librosa.core.load(x)[0])).minmax),50)\n",
    "np.percentile(np.corrcoef(sps.describe(librosa.core.stft(librosa.core.load(x)[0])).minmax),75)\n",
    "np.median(np.corrcoef(sps.describe(librosa.core.stft(librosa.core.load(x)[0])).minmax))\n",
    "np.average(np.corrcoef(sps.describe(librosa.core.stft(librosa.core.load(x)[0])).minmax))\n",
    "np.mean(np.corrcoef(sps.describe(librosa.core.stft(librosa.core.load(x)[0])).minmax))\n",
    "np.std(np.corrcoef(sps.describe(librosa.core.stft(librosa.core.load(x)[0])).minmax))\n",
    "np.var(np.corrcoef(sps.describe(librosa.core.stft(librosa.core.load(x)[0])).minmax))\n",
    "np.max(np.cov(sps.describe(librosa.core.stft(librosa.core.load(x)[0])).minmax))\n",
    "np.min(np.cov(sps.describe(librosa.core.stft(librosa.core.load(x)[0])).minmax))\n",
    "np.ptp(np.cov(sps.describe(librosa.core.stft(librosa.core.load(x)[0])).minmax))\n",
    "np.percentile(np.cov(sps.describe(librosa.core.stft(librosa.core.load(x)[0])).minmax),25)\n",
    "np.percentile(np.cov(sps.describe(librosa.core.stft(librosa.core.load(x)[0])).minmax),50)\n",
    "np.percentile(np.cov(sps.describe(librosa.core.stft(librosa.core.load(x)[0])).minmax),75)\n",
    "np.median(np.cov(sps.describe(librosa.core.stft(librosa.core.load(x)[0])).minmax))\n",
    "np.average(np.cov(sps.describe(librosa.core.stft(librosa.core.load(x)[0])).minmax))\n",
    "np.mean(np.cov(sps.describe(librosa.core.stft(librosa.core.load(x)[0])).minmax))\n",
    "np.std(np.cov(sps.describe(librosa.core.stft(librosa.core.load(x)[0])).minmax))\n",
    "np.var(np.cov(sps.describe(librosa.core.stft(librosa.core.load(x)[0])).minmax))\n",
    "\n",
    "np.max(sps.describe(librosa.core.stft(librosa.core.load(x)[0])).variance)\n",
    "np.min(sps.describe(librosa.core.stft(librosa.core.load(x)[0])).variance)\n",
    "np.ptp(sps.describe(librosa.core.stft(librosa.core.load(x)[0])).variance)\n",
    "np.percentile(sps.describe(librosa.core.stft(librosa.core.load(x)[0])).variance, 25)\n",
    "np.percentile(sps.describe(librosa.core.stft(librosa.core.load(x)[0])).variance, 50)\n",
    "np.percentile(sps.describe(librosa.core.stft(librosa.core.load(x)[0])).variance, 75)\n",
    "np.median(sps.describe(librosa.core.stft(librosa.core.load(x)[0])).variance)\n",
    "np.average(sps.describe(librosa.core.stft(librosa.core.load(x)[0])).variance)\n",
    "np.mean(sps.describe(librosa.core.stft(librosa.core.load(x)[0])).variance)\n",
    "np.std(sps.describe(librosa.core.stft(librosa.core.load(x)[0])).variance)\n",
    "np.var(sps.describe(librosa.core.stft(librosa.core.load(x)[0])).variance)\n",
    "np.max(np.corrcoef(sps.describe(librosa.core.stft(librosa.core.load(x)[0])).variance))\n",
    "np.min(np.corrcoef(sps.describe(librosa.core.stft(librosa.core.load(x)[0])).variance))\n",
    "np.ptp(np.corrcoef(sps.describe(librosa.core.stft(librosa.core.load(x)[0])).variance))\n",
    "np.percentile(np.corrcoef(sps.describe(librosa.core.stft(librosa.core.load(x)[0])).variance),25)\n",
    "np.percentile(np.corrcoef(sps.describe(librosa.core.stft(librosa.core.load(x)[0])).variance),50)\n",
    "np.percentile(np.corrcoef(sps.describe(librosa.core.stft(librosa.core.load(x)[0])).variance),75)\n",
    "np.median(np.corrcoef(sps.describe(librosa.core.stft(librosa.core.load(x)[0])).variance))\n",
    "np.average(np.corrcoef(sps.describe(librosa.core.stft(librosa.core.load(x)[0])).variance))\n",
    "np.mean(np.corrcoef(sps.describe(librosa.core.stft(librosa.core.load(x)[0])).variance))\n",
    "np.std(np.corrcoef(sps.describe(librosa.core.stft(librosa.core.load(x)[0])).variance))\n",
    "np.var(np.corrcoef(sps.describe(librosa.core.stft(librosa.core.load(x)[0])).variance))\n",
    "np.max(np.cov(sps.describe(librosa.core.stft(librosa.core.load(x)[0])).variance))\n",
    "np.min(np.cov(sps.describe(librosa.core.stft(librosa.core.load(x)[0])).variance))\n",
    "np.ptp(np.cov(sps.describe(librosa.core.stft(librosa.core.load(x)[0])).variance))\n",
    "np.percentile(np.cov(sps.describe(librosa.core.stft(librosa.core.load(x)[0])).variance),25)\n",
    "np.percentile(np.cov(sps.describe(librosa.core.stft(librosa.core.load(x)[0])).variance),50)\n",
    "np.percentile(np.cov(sps.describe(librosa.core.stft(librosa.core.load(x)[0])).variance),75)\n",
    "np.median(np.cov(sps.describe(librosa.core.stft(librosa.core.load(x)[0])).variance))\n",
    "np.average(np.cov(sps.describe(librosa.core.stft(librosa.core.load(x)[0])).variance))\n",
    "np.mean(np.cov(sps.describe(librosa.core.stft(librosa.core.load(x)[0])).variance))\n",
    "np.std(np.cov(sps.describe(librosa.core.stft(librosa.core.load(x)[0])).variance))\n",
    "np.var(np.cov(sps.describe(librosa.core.stft(librosa.core.load(x)[0])).variance))\n",
    "\n",
    "np.max(sps.describe(librosa.core.stft(librosa.core.load(x)[0])).mean)\n",
    "np.min(sps.describe(librosa.core.stft(librosa.core.load(x)[0])).mean)\n",
    "np.ptp(sps.describe(librosa.core.stft(librosa.core.load(x)[0])).mean)\n",
    "np.percentile(sps.describe(librosa.core.stft(librosa.core.load(x)[0])).mean, 25)\n",
    "np.percentile(sps.describe(librosa.core.stft(librosa.core.load(x)[0])).mean, 50)\n",
    "np.percentile(sps.describe(librosa.core.stft(librosa.core.load(x)[0])).mean, 75)\n",
    "np.median(sps.describe(librosa.core.stft(librosa.core.load(x)[0])).mean)\n",
    "np.average(sps.describe(librosa.core.stft(librosa.core.load(x)[0])).mean)\n",
    "np.mean(sps.describe(librosa.core.stft(librosa.core.load(x)[0])).mean)\n",
    "np.std(sps.describe(librosa.core.stft(librosa.core.load(x)[0])).mean)\n",
    "np.var(sps.describe(librosa.core.stft(librosa.core.load(x)[0])).mean)\n",
    "np.max(np.corrcoef(sps.describe(librosa.core.stft(librosa.core.load(x)[0])).mean))\n",
    "np.min(np.corrcoef(sps.describe(librosa.core.stft(librosa.core.load(x)[0])).mean))\n",
    "np.ptp(np.corrcoef(sps.describe(librosa.core.stft(librosa.core.load(x)[0])).mean))\n",
    "np.percentile(np.corrcoef(sps.describe(librosa.core.stft(librosa.core.load(x)[0])).mean),25)\n",
    "np.percentile(np.corrcoef(sps.describe(librosa.core.stft(librosa.core.load(x)[0])).mean),50)\n",
    "np.percentile(np.corrcoef(sps.describe(librosa.core.stft(librosa.core.load(x)[0])).mean),75)\n",
    "np.median(np.corrcoef(sps.describe(librosa.core.stft(librosa.core.load(x)[0])).mean))\n",
    "np.average(np.corrcoef(sps.describe(librosa.core.stft(librosa.core.load(x)[0])).mean))\n",
    "np.mean(np.corrcoef(sps.describe(librosa.core.stft(librosa.core.load(x)[0])).mean))\n",
    "np.std(np.corrcoef(sps.describe(librosa.core.stft(librosa.core.load(x)[0])).mean))\n",
    "np.var(np.corrcoef(sps.describe(librosa.core.stft(librosa.core.load(x)[0])).mean))\n",
    "np.max(np.cov(sps.describe(librosa.core.stft(librosa.core.load(x)[0])).mean))\n",
    "np.min(np.cov(sps.describe(librosa.core.stft(librosa.core.load(x)[0])).mean))\n",
    "np.ptp(np.cov(sps.describe(librosa.core.stft(librosa.core.load(x)[0])).mean))\n",
    "np.percentile(np.cov(sps.describe(librosa.core.stft(librosa.core.load(x)[0])).mean),25)\n",
    "np.percentile(np.cov(sps.describe(librosa.core.stft(librosa.core.load(x)[0])).mean),50)\n",
    "np.percentile(np.cov(sps.describe(librosa.core.stft(librosa.core.load(x)[0])).mean),75)\n",
    "np.median(np.cov(sps.describe(librosa.core.stft(librosa.core.load(x)[0])).mean))\n",
    "np.average(np.cov(sps.describe(librosa.core.stft(librosa.core.load(x)[0])).mean))\n",
    "np.mean(np.cov(sps.describe(librosa.core.stft(librosa.core.load(x)[0])).mean))\n",
    "np.std(np.cov(sps.describe(librosa.core.stft(librosa.core.load(x)[0])).mean))\n",
    "np.var(np.cov(sps.describe(librosa.core.stft(librosa.core.load(x)[0])).mean))\n",
    "\n",
    "np.max(sps.describe(librosa.core.stft(librosa.core.load(x)[0])).skewness)\n",
    "np.min(sps.describe(librosa.core.stft(librosa.core.load(x)[0])).skewness)\n",
    "np.ptp(sps.describe(librosa.core.stft(librosa.core.load(x)[0])).skewness)\n",
    "np.percentile(sps.describe(librosa.core.stft(librosa.core.load(x)[0])).skewness, 25)\n",
    "np.percentile(sps.describe(librosa.core.stft(librosa.core.load(x)[0])).skewness, 50)\n",
    "np.percentile(sps.describe(librosa.core.stft(librosa.core.load(x)[0])).skewness, 75)\n",
    "np.median(sps.describe(librosa.core.stft(librosa.core.load(x)[0])).skewness)\n",
    "np.average(sps.describe(librosa.core.stft(librosa.core.load(x)[0])).skewness)\n",
    "np.mean(sps.describe(librosa.core.stft(librosa.core.load(x)[0])).skewness)\n",
    "np.std(sps.describe(librosa.core.stft(librosa.core.load(x)[0])).skewness)\n",
    "np.var(sps.describe(librosa.core.stft(librosa.core.load(x)[0])).skewness)\n",
    "np.max(np.corrcoef(sps.describe(librosa.core.stft(librosa.core.load(x)[0])).skewness))\n",
    "np.min(np.corrcoef(sps.describe(librosa.core.stft(librosa.core.load(x)[0])).skewness))\n",
    "np.ptp(np.corrcoef(sps.describe(librosa.core.stft(librosa.core.load(x)[0])).skewness))\n",
    "np.percentile(np.corrcoef(sps.describe(librosa.core.stft(librosa.core.load(x)[0])).skewness),25)\n",
    "np.percentile(np.corrcoef(sps.describe(librosa.core.stft(librosa.core.load(x)[0])).skewness),50)\n",
    "np.percentile(np.corrcoef(sps.describe(librosa.core.stft(librosa.core.load(x)[0])).skewness),75)\n",
    "np.median(np.corrcoef(sps.describe(librosa.core.stft(librosa.core.load(x)[0])).skewness))\n",
    "np.average(np.corrcoef(sps.describe(librosa.core.stft(librosa.core.load(x)[0])).skewness))\n",
    "np.mean(np.corrcoef(sps.describe(librosa.core.stft(librosa.core.load(x)[0])).skewness))\n",
    "np.std(np.corrcoef(sps.describe(librosa.core.stft(librosa.core.load(x)[0])).skewness))\n",
    "np.var(np.corrcoef(sps.describe(librosa.core.stft(librosa.core.load(x)[0])).skewness))\n",
    "np.max(np.cov(sps.describe(librosa.core.stft(librosa.core.load(x)[0])).skewness))\n",
    "np.min(np.cov(sps.describe(librosa.core.stft(librosa.core.load(x)[0])).skewness))\n",
    "np.ptp(np.cov(sps.describe(librosa.core.stft(librosa.core.load(x)[0])).skewness))\n",
    "np.percentile(np.cov(sps.describe(librosa.core.stft(librosa.core.load(x)[0])).skewness),25)\n",
    "np.percentile(np.cov(sps.describe(librosa.core.stft(librosa.core.load(x)[0])).skewness),50)\n",
    "np.percentile(np.cov(sps.describe(librosa.core.stft(librosa.core.load(x)[0])).skewness),75)\n",
    "np.median(np.cov(sps.describe(librosa.core.stft(librosa.core.load(x)[0])).skewness))\n",
    "np.average(np.cov(sps.describe(librosa.core.stft(librosa.core.load(x)[0])).skewness))\n",
    "np.mean(np.cov(sps.describe(librosa.core.stft(librosa.core.load(x)[0])).skewness))\n",
    "np.std(np.cov(sps.describe(librosa.core.stft(librosa.core.load(x)[0])).skewness))\n",
    "np.var(np.cov(sps.describe(librosa.core.stft(librosa.core.load(x)[0])).skewness))\n",
    "\n",
    "np.max(sps.describe(librosa.core.stft(librosa.core.load(x)[0])).kurtosis)\n",
    "np.min(sps.describe(librosa.core.stft(librosa.core.load(x)[0])).skewness)\n",
    "np.ptp(sps.describe(librosa.core.stft(librosa.core.load(x)[0])).skewness)\n",
    "np.percentile(sps.describe(librosa.core.stft(librosa.core.load(x)[0])).skewness, 25)\n",
    "np.percentile(sps.describe(librosa.core.stft(librosa.core.load(x)[0])).skewness, 50)\n",
    "np.percentile(sps.describe(librosa.core.stft(librosa.core.load(x)[0])).skewness, 75)\n",
    "np.median(sps.describe(librosa.core.stft(librosa.core.load(x)[0])).skewness)\n",
    "np.average(sps.describe(librosa.core.stft(librosa.core.load(x)[0])).skewness)\n",
    "np.mean(sps.describe(librosa.core.stft(librosa.core.load(x)[0])).skewness)\n",
    "np.std(sps.describe(librosa.core.stft(librosa.core.load(x)[0])).skewness)\n",
    "np.var(sps.describe(librosa.core.stft(librosa.core.load(x)[0])).skewness)\n",
    "np.max(np.corrcoef(sps.describe(librosa.core.stft(librosa.core.load(x)[0])).skewness))\n",
    "np.min(np.corrcoef(sps.describe(librosa.core.stft(librosa.core.load(x)[0])).skewness))\n",
    "np.ptp(np.corrcoef(sps.describe(librosa.core.stft(librosa.core.load(x)[0])).skewness))\n",
    "np.percentile(np.corrcoef(sps.describe(librosa.core.stft(librosa.core.load(x)[0])).skewness),25)\n",
    "np.percentile(np.corrcoef(sps.describe(librosa.core.stft(librosa.core.load(x)[0])).skewness),50)\n",
    "np.percentile(np.corrcoef(sps.describe(librosa.core.stft(librosa.core.load(x)[0])).skewness),75)\n",
    "np.median(np.corrcoef(sps.describe(librosa.core.stft(librosa.core.load(x)[0])).skewness))\n",
    "np.average(np.corrcoef(sps.describe(librosa.core.stft(librosa.core.load(x)[0])).skewness))\n",
    "np.mean(np.corrcoef(sps.describe(librosa.core.stft(librosa.core.load(x)[0])).skewness))\n",
    "np.std(np.corrcoef(sps.describe(librosa.core.stft(librosa.core.load(x)[0])).skewness))\n",
    "np.var(np.corrcoef(sps.describe(librosa.core.stft(librosa.core.load(x)[0])).skewness))\n",
    "np.max(np.cov(sps.describe(librosa.core.stft(librosa.core.load(x)[0])).skewness))\n",
    "np.min(np.cov(sps.describe(librosa.core.stft(librosa.core.load(x)[0])).skewness))\n",
    "np.ptp(np.cov(sps.describe(librosa.core.stft(librosa.core.load(x)[0])).skewness))\n",
    "np.percentile(np.cov(sps.describe(librosa.core.stft(librosa.core.load(x)[0])).skewness),25)\n",
    "np.percentile(np.cov(sps.describe(librosa.core.stft(librosa.core.load(x)[0])).skewness),50)\n",
    "np.percentile(np.cov(sps.describe(librosa.core.stft(librosa.core.load(x)[0])).skewness),75)\n",
    "np.median(np.cov(sps.describe(librosa.core.stft(librosa.core.load(x)[0])).skewness))\n",
    "np.average(np.cov(sps.describe(librosa.core.stft(librosa.core.load(x)[0])).skewness))\n",
    "np.mean(np.cov(sps.describe(librosa.core.stft(librosa.core.load(x)[0])).skewness))\n",
    "np.std(np.cov(sps.describe(librosa.core.stft(librosa.core.load(x)[0])).skewness))\n",
    "np.var(np.cov(sps.describe(librosa.core.stft(librosa.core.load(x)[0])).skewness))"
   ]
  },
  {
   "cell_type": "code",
   "execution_count": null,
   "metadata": {
    "collapsed": true
   },
   "outputs": [],
   "source": [
    "librosa.core.istft(librosa.core.load('1.wav'))"
   ]
  },
  {
   "cell_type": "code",
   "execution_count": null,
   "metadata": {
    "collapsed": true
   },
   "outputs": [],
   "source": [
    "ifgram = librosa.core.ifgram(y)\n",
    "sps.describe(ifgram)\n",
    "# np.mean(ifgram)\n",
    "# np."
   ]
  },
  {
   "cell_type": "code",
   "execution_count": null,
   "metadata": {
    "collapsed": true
   },
   "outputs": [],
   "source": [
    "import matplotlib.pyplot as plt\n",
    "%matplotlib inline\n",
    "plt.plot(core.cqt(y))"
   ]
  },
  {
   "cell_type": "code",
   "execution_count": null,
   "metadata": {
    "collapsed": true
   },
   "outputs": [],
   "source": [
    "core.hybrid_cqt(y)"
   ]
  },
  {
   "cell_type": "code",
   "execution_count": null,
   "metadata": {
    "collapsed": true
   },
   "outputs": [],
   "source": [
    "core.pseudo_cqt(y)"
   ]
  },
  {
   "cell_type": "code",
   "execution_count": null,
   "metadata": {
    "collapsed": true
   },
   "outputs": [],
   "source": [
    "core.fmt(y)"
   ]
  },
  {
   "cell_type": "code",
   "execution_count": null,
   "metadata": {
    "collapsed": true
   },
   "outputs": [],
   "source": [
    "core.interp_harmonics(y)"
   ]
  },
  {
   "cell_type": "code",
   "execution_count": null,
   "metadata": {
    "collapsed": true
   },
   "outputs": [],
   "source": [
    "core.salience(y)"
   ]
  },
  {
   "cell_type": "code",
   "execution_count": null,
   "metadata": {
    "collapsed": true,
    "scrolled": true
   },
   "outputs": [],
   "source": [
    "core.phase_vocoder(y)"
   ]
  },
  {
   "cell_type": "code",
   "execution_count": null,
   "metadata": {
    "collapsed": true
   },
   "outputs": [],
   "source": [
    "core.magphase(y)"
   ]
  },
  {
   "cell_type": "markdown",
   "metadata": {},
   "source": [
    "### Reading manual classification of third track"
   ]
  },
  {
   "cell_type": "code",
   "execution_count": 15,
   "metadata": {
    "collapsed": true
   },
   "outputs": [],
   "source": [
    "file_list = sorted(list(glob('au-suivant/*.wav')))"
   ]
  },
  {
   "cell_type": "markdown",
   "metadata": {},
   "source": [
    "### Reading manual classification of fourth track"
   ]
  },
  {
   "cell_type": "code",
   "execution_count": null,
   "metadata": {
    "collapsed": true
   },
   "outputs": [],
   "source": [
    "file_list = sorted(list(glob('marling/*.wav')))"
   ]
  }
 ],
 "metadata": {
  "kernelspec": {
   "display_name": "Python 3",
   "language": "python",
   "name": "python3"
  },
  "language_info": {
   "codemirror_mode": {
    "name": "ipython",
    "version": 3
   },
   "file_extension": ".py",
   "mimetype": "text/x-python",
   "name": "python",
   "nbconvert_exporter": "python",
   "pygments_lexer": "ipython3",
   "version": "3.6.0"
  },
  "widgets": {
   "application/vnd.jupyter.widget-state+json": {
    "state": {},
    "version_major": 1,
    "version_minor": 0
   }
  }
 },
 "nbformat": 4,
 "nbformat_minor": 2
}
